{
 "cells": [
  {
   "cell_type": "markdown",
   "id": "67f981c1-4005-4773-9b84-d54ec9b0425a",
   "metadata": {},
   "source": [
    "# Data Science Tools and Ecosystem"
   ]
  },
  {
   "cell_type": "markdown",
   "id": "f4a0c200-1a49-4558-b46d-ed139d07a633",
   "metadata": {},
   "source": [
    "*In this notebook, Data Science Tools and Ecosystem are summarized.*"
   ]
  },
  {
   "cell_type": "markdown",
   "id": "ebdf25a7-d850-4164-bf58-efb8976fc0f8",
   "metadata": {},
   "source": [
    "# Objectives \n",
    "- List popular languages for Data Science.\n",
    "- Introduce key open-source tools for development environments (e.g., JupyterLab, VS Code).\n",
    "- Demonstrate basic operations in Jupyter Notebooks (e.g., arithmetic, Markdown tables).\n",
    "\n",
    "# List popular languages for Data Science\n",
    "- Python\n",
    "- R \n",
    "- SQL\n",
    "\n",
    "## Author\n",
    "## Jovemar Pidor\n",
    "                                 \n"
   ]
  },
  {
   "cell_type": "markdown",
   "id": "60107832-e8f3-479e-8f57-b84cdce9f5e5",
   "metadata": {},
   "source": [
    "**Some of the popular languages that Data Scientists use are:**\n",
    "1. python\n",
    "2. R\n",
    "3. SQL"
   ]
  },
  {
   "cell_type": "markdown",
   "id": "e22c669a-0f59-448a-8503-83f952006a24",
   "metadata": {},
   "source": [
    "***Some of the commonly used libraries used by Data Scientists include:*** \n",
    "1. NumPy \n",
    "2. ggplot2 \n",
    "3. Matplotlib"
   ]
  },
  {
   "cell_type": "markdown",
   "id": "95180a42-5f34-449d-ad95-76654d6c9be5",
   "metadata": {},
   "source": [
    "| **Data Science Tools** | \n",
    "|---------------------- | \n",
    "| JupyterLab | \n",
    "| VS Code | \n",
    "| RStudio | "
   ]
  },
  {
   "cell_type": "markdown",
   "id": "e4b654f5-3c5a-4299-9f59-24319c83ca16",
   "metadata": {},
   "source": [
    "### Below are a few examples of evaluating arithmetic expressions in Python"
   ]
  },
  {
   "cell_type": "code",
   "execution_count": 4,
   "id": "518d620b-0120-48cb-a582-7fac036d2bfa",
   "metadata": {},
   "outputs": [
    {
     "name": "stdout",
     "output_type": "stream",
     "text": [
      "17\n"
     ]
    }
   ],
   "source": [
    "# This a simple arithmetic expression to multiply then add integers.\n",
    "print (( 3 * 4 ) + 5) "
   ]
  },
  {
   "cell_type": "code",
   "execution_count": 9,
   "id": "62975c51-1b30-4760-9b9f-8c98483d58d6",
   "metadata": {},
   "outputs": [
    {
     "name": "stdout",
     "output_type": "stream",
     "text": [
      " 200 minutes = 3.33 hours\n"
     ]
    }
   ],
   "source": [
    "# This will convert 200 minutes to hours by diving by 60\n",
    "print (f\" 200 minutes = {200/60:.2f} hours\")"
   ]
  },
  {
   "cell_type": "code",
   "execution_count": null,
   "id": "922ae18f-9066-4f9d-963e-019d08643e35",
   "metadata": {},
   "outputs": [],
   "source": []
  }
 ],
 "metadata": {
  "kernelspec": {
   "display_name": "Python 3 (ipykernel)",
   "language": "python",
   "name": "python3"
  },
  "language_info": {
   "codemirror_mode": {
    "name": "ipython",
    "version": 3
   },
   "file_extension": ".py",
   "mimetype": "text/x-python",
   "name": "python",
   "nbconvert_exporter": "python",
   "pygments_lexer": "ipython3",
   "version": "3.12.8"
  }
 },
 "nbformat": 4,
 "nbformat_minor": 5
}
